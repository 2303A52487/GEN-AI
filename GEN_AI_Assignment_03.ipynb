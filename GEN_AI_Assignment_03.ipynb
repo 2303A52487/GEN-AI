{
  "nbformat": 4,
  "nbformat_minor": 0,
  "metadata": {
    "colab": {
      "provenance": [],
      "authorship_tag": "ABX9TyNDT9wqtrgBFSoiPb49RCD1",
      "include_colab_link": true
    },
    "kernelspec": {
      "name": "python3",
      "display_name": "Python 3"
    },
    "language_info": {
      "name": "python"
    }
  },
  "cells": [
    {
      "cell_type": "markdown",
      "metadata": {
        "id": "view-in-github",
        "colab_type": "text"
      },
      "source": [
        "<a href=\"https://colab.research.google.com/github/2303A52487/GEN-AI/blob/main/GEN_AI_Assignment_03.ipynb\" target=\"_parent\"><img src=\"https://colab.research.google.com/assets/colab-badge.svg\" alt=\"Open In Colab\"/></a>"
      ]
    },
    {
      "cell_type": "code",
      "execution_count": 1,
      "metadata": {
        "colab": {
          "base_uri": "https://localhost:8080/"
        },
        "id": "UIbLWX9-Rgub",
        "outputId": "e7d23e35-88bb-4c20-b5a3-2dff25e9ab31"
      },
      "outputs": [
        {
          "output_type": "stream",
          "name": "stdout",
          "text": [
            "The value of x at which f(x) has a minimum is: 0.0\n",
            "The minimum value of f(x) is: 10.0\n"
          ]
        }
      ],
      "source": [
        "# Define the function f(x)\n",
        "def f(x):\n",
        "    return 5 * x**4 + 3 * x**2 + 10\n",
        "\n",
        "# Define the derivative of f(x)\n",
        "def df(x):\n",
        "    return 20 * x**3 + 6 * x\n",
        "\n",
        "# Gradient Descent Algorithm0\n",
        "def gradient_descent(starting_x, learning_rate, tolerance, max_iterations):\n",
        "    x = starting_x\n",
        "    for i in range(max_iterations):\n",
        "        gradient = df(x)\n",
        "        new_x = x - learning_rate * gradient\n",
        "\n",
        "        # Check for convergence\n",
        "        if abs(new_x - x) < tolerance:\n",
        "            break\n",
        "\n",
        "        x = new_x\n",
        "\n",
        "    return x\n",
        "\n",
        "# Parameters for Gradient Descent\n",
        "starting_x = 0.0  # Initial guess\n",
        "learning_rate = 0.01  # Step size\n",
        "tolerance = 1e-6  # Convergence tolerance\n",
        "max_iterations = 10000  # Maximum number of iterations\n",
        "\n",
        "# Find the minimum\n",
        "minimum_x = gradient_descent(starting_x, learning_rate, tolerance, max_iterations)\n",
        "\n",
        "# Output the result\n",
        "print(\"The value of x at which f(x) has a minimum is:\", minimum_x)\n",
        "print(\"The minimum value of f(x) is:\", f(minimum_x))"
      ]
    },
    {
      "cell_type": "code",
      "source": [
        "# Define the function g(x, y)\n",
        "def g(x, y):\n",
        "    return 3 * x**2 + 5 * (2.718281828459045 ** (-y)) + 10  # Using e ~ 2.71828\n",
        "\n",
        "# Define the partial derivatives of g(x, y)\n",
        "def dg_dx(x):\n",
        "    return 6 * x  # Partial derivative with respect to x\n",
        "\n",
        "def dg_dy(y):\n",
        "    return -5 * (2.718281828459045 ** (-y))  # Partial derivative with respect to y\n",
        "\n",
        "# Gradient Descent Algorithm\n",
        "def gradient_descent(starting_x, starting_y, learning_rate, tolerance, max_iterations):\n",
        "    x = starting_x\n",
        "    y = starting_y\n",
        "    for i in range(max_iterations):\n",
        "        gradient_x = dg_dx(x)\n",
        "        gradient_y = dg_dy(y)\n",
        "\n",
        "        new_x = x - learning_rate * gradient_x\n",
        "        new_y = y - learning_rate * gradient_y\n",
        "\n",
        "        # Check for convergence\n",
        "        if abs(new_x - x) < tolerance and abs(new_y - y) < tolerance:\n",
        "            break\n",
        "\n",
        "        x = new_x\n",
        "        y = new_y\n",
        "\n",
        "    return x, y\n",
        "\n",
        "# Parameters for Gradient Descent\n",
        "starting_x = 0.0  # Initial guess for x\n",
        "starting_y = 0.0  # Initial guess for y\n",
        "learning_rate = 0.01  # Step size\n",
        "tolerance = 1e-6  # Convergence tolerance\n",
        "max_iterations = 10000  # Maximum number of iterations\n",
        "\n",
        "# Find the minimum\n",
        "minimum_x, minimum_y = gradient_descent(starting_x, starting_y, learning_rate, tolerance, max_iterations)\n",
        "\n",
        "# Output the result\n",
        "print(\"The value of x at which g(x, y) has a minimum is:\", minimum_x)\n",
        "print(\"The value of y at which g(x, y) has a minimum is:\", minimum_y)\n",
        "print(\"The minimum value of g(x, y) is:\", g(minimum_x, minimum_y))"
      ],
      "metadata": {
        "colab": {
          "base_uri": "https://localhost:8080/"
        },
        "id": "_8mGmlqmR4Wu",
        "outputId": "43dfb060-048d-40d3-8836-cca0da805975"
      },
      "execution_count": 2,
      "outputs": [
        {
          "output_type": "stream",
          "name": "stdout",
          "text": [
            "The value of x at which g(x, y) has a minimum is: 0.0\n",
            "The value of y at which g(x, y) has a minimum is: 6.216917124174048\n",
            "The minimum value of g(x, y) is: 10.009976936379974\n"
          ]
        }
      ]
    },
    {
      "cell_type": "code",
      "source": [
        "# Define the sigmoid function z(x)\n",
        "def z(x):\n",
        "    return 1 / (1 + (2.718281828459045 ** (-x)))  # Using e ~ 2.71828\n",
        "\n",
        "# Define the derivative of the sigmoid function z(x)\n",
        "def dz_dx(x):\n",
        "    sigmoid = z(x)\n",
        "    return sigmoid * (1 - sigmoid)  # Derivative of the sigmoid function\n",
        "\n",
        "# Gradient Descent Algorithm\n",
        "def gradient_descent(starting_x, learning_rate, tolerance, max_iterations):\n",
        "    x = starting_x\n",
        "    for i in range(max_iterations):\n",
        "        gradient = dz_dx(x)\n",
        "\n",
        "        new_x = x - learning_rate * gradient\n",
        "\n",
        "        # Check for convergence\n",
        "        if abs(new_x - x) < tolerance:\n",
        "            break\n",
        "\n",
        "        x = new_x\n",
        "\n",
        "    return x\n",
        "\n",
        "# Parameters for Gradient Descent\n",
        "starting_x = 0.0  # Initial guess\n",
        "learning_rate = 0.1  # Step size\n",
        "tolerance = 1e-6  # Convergence tolerance\n",
        "max_iterations = 10000  # Maximum number of iterations\n",
        "\n",
        "# Find the minimum\n",
        "minimum_x = gradient_descent(starting_x, learning_rate, tolerance, max_iterations)\n",
        "\n",
        "# Output the result\n",
        "print(\"The value of x at which z(x) is relatively low is:\", minimum_x)\n",
        "print(\"The value of z(x) at this point is:\", z(minimum_x))"
      ],
      "metadata": {
        "colab": {
          "base_uri": "https://localhost:8080/"
        },
        "id": "qahE57LhR8-m",
        "outputId": "e99a70f7-80ec-4989-a129-f8ce6c698b64"
      },
      "execution_count": 3,
      "outputs": [
        {
          "output_type": "stream",
          "name": "stdout",
          "text": [
            "The value of x at which z(x) is relatively low is: -6.894151508360376\n",
            "The value of z(x) at this point is: 0.0010126701824862976\n"
          ]
        }
      ]
    }
  ]
}