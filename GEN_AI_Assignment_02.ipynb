{
  "nbformat": 4,
  "nbformat_minor": 0,
  "metadata": {
    "colab": {
      "provenance": [],
      "authorship_tag": "ABX9TyPLuuxGD2wwTBHAB7+KehBO",
      "include_colab_link": true
    },
    "kernelspec": {
      "name": "python3",
      "display_name": "Python 3"
    },
    "language_info": {
      "name": "python"
    }
  },
  "cells": [
    {
      "cell_type": "markdown",
      "metadata": {
        "id": "view-in-github",
        "colab_type": "text"
      },
      "source": [
        "<a href=\"https://colab.research.google.com/github/2303A52487/GEN-AI/blob/main/GEN_AI_Assignment_02.ipynb\" target=\"_parent\"><img src=\"https://colab.research.google.com/assets/colab-badge.svg\" alt=\"Open In Colab\"/></a>"
      ]
    },
    {
      "cell_type": "code",
      "execution_count": 1,
      "metadata": {
        "colab": {
          "base_uri": "https://localhost:8080/"
        },
        "id": "GR15fhxyQUuv",
        "outputId": "a0880e21-f519-40ec-9b5f-dcc9d2d62d3e"
      },
      "outputs": [
        {
          "output_type": "stream",
          "name": "stdout",
          "text": [
            "Optimal Production: A = 2, B = 3\n",
            "Maximum Profit: Rs 27.00\n"
          ]
        }
      ],
      "source": [
        "from scipy.optimize import linprog\n",
        "\n",
        "# Coefficients for the objective function (negative because we minimize in linprog)\n",
        "c = [-6, -5]\n",
        "\n",
        "# Coefficients for the inequality constraints (Ax ≤ b)\n",
        "A = [[1, 1],    # Milk constraint\n",
        "     [3, 2]]    # Choco constraint\n",
        "b = [5, 12]     # Total available resources\n",
        "\n",
        "# Bounds for x and y (non-negative constraints)\n",
        "x_bounds = (0, None)\n",
        "y_bounds = (0, None)\n",
        "\n",
        "# Solve the Linear Program\n",
        "result = linprog(c, A_ub=A, b_ub=b, bounds=[x_bounds, y_bounds], method='highs')\n",
        "\n",
        "# Display results\n",
        "if result.success:\n",
        "    x_opt, y_opt = result.x\n",
        "    print(f\"Optimal Production: A = {x_opt:.0f}, B = {y_opt:.0f}\")\n",
        "    print(f\"Maximum Profit: Rs {(-result.fun):.2f}\")\n",
        "else:\n",
        "    print(\"No optimal solution found.\")"
      ]
    },
    {
      "cell_type": "code",
      "source": [
        "from scipy.optimize import linprog\n",
        "\n",
        "# Coefficients for the objective function (negative for maximization)\n",
        "c = [-50, -10]\n",
        "\n",
        "# Coefficients for the inequality constraints (Ax ≤ b)\n",
        "A = [\n",
        "    [1, 1],        # Land constraint\n",
        "    [7000, 2000],  # Budget constraint\n",
        "    [120, 30]      # Labor constraint\n",
        "]\n",
        "b = [110, 700000, 1200]  # Resource availability\n",
        "\n",
        "# Bounds for x (Wheat) and y (Barley) (non-negative constraints)\n",
        "x_bounds = (0, None)\n",
        "y_bounds = (0, None)\n",
        "\n",
        "# Solve the Linear Program\n",
        "result = linprog(c, A_ub=A, b_ub=b, bounds=[x_bounds, y_bounds], method='highs')\n",
        "\n",
        "# Display results\n",
        "if result.success:\n",
        "    x_opt, y_opt = result.x\n",
        "    print(f\"Optimal Land Allocation: Wheat = {x_opt:.2f} hectares, Barley = {y_opt:.2f} hectares\")\n",
        "    print(f\"Maximum Profit: Rs {(-result.fun):.2f}\")\n",
        "else:\n",
        "    print(\"No optimal solution found.\")"
      ],
      "metadata": {
        "colab": {
          "base_uri": "https://localhost:8080/"
        },
        "id": "Vng-YcbLQhDW",
        "outputId": "1ecce939-359d-493b-c1cf-38bcb19e9621"
      },
      "execution_count": 2,
      "outputs": [
        {
          "output_type": "stream",
          "name": "stdout",
          "text": [
            "Optimal Land Allocation: Wheat = 10.00 hectares, Barley = 0.00 hectares\n",
            "Maximum Profit: Rs 500.00\n"
          ]
        }
      ]
    }
  ]
}